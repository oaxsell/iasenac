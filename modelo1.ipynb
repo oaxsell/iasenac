{
 "cells": [
  {
   "cell_type": "code",
   "execution_count": null,
   "id": "0d572919",
   "metadata": {},
   "outputs": [],
   "source": [
    "# Features =  Caracteristicas\n",
    "# Pelo Longo\n",
    "# Pelo Curto\n",
    "# Faz au-au\n",
    "\n",
    "# Dados de treino : X\n",
    "porco1=[1,1,0]\n",
    "porco2=[0,1,1]\n",
    "proco3=[0,1,0]\n",
    "\n",
    "cachorro1=[0,1,1]\n",
    "cachorro2=[1,1,1]\n",
    "cachorro3=[0,0,1]"
   ]
  },
  {
   "cell_type": "code",
   "execution_count": null,
   "id": "d593ac5d",
   "metadata": {},
   "outputs": [
    {
     "name": "stdout",
     "output_type": "stream",
     "text": [
      "Precisao do modelo:  83.33333333333334\n"
     ]
    }
   ],
   "source": [
    "# 1 -> porco\n",
    "# 0 -> cachorro\n",
    "\n",
    "treino_x=[porco1,porco2,proco3,cachorro1,cachorro2,cachorro3]\n",
    "treino_y=[1,1,1,0,0,0]\n",
    "\n",
    "# Escolher o modelo\n",
    "from sklearn.svm import LinearSVC\n",
    "\n",
    "# Treinar o modelo\n",
    "modelo=LinearSVC()\n",
    "modelo.fit(treino_x,treino_y)\n",
    "\n",
    "# Fazer previsoes\n",
    "previsoes=modelo.predict(treino_x)\n",
    "\n",
    "# Testar a precisao do modelo\n",
    "from sklearn.metrics import accuracy_score\n",
    "precisao=accuracy_score(treino_y,previsoes)*100\n",
    "print(\"Precisao do modelo: \",precisao)"
   ]
  },
  {
   "cell_type": "code",
   "execution_count": 8,
   "id": "77c85f27",
   "metadata": {},
   "outputs": [
    {
     "name": "stdout",
     "output_type": "stream",
     "text": [
      "E um porco\n"
     ]
    }
   ],
   "source": [
    "# Animal misterioso\n",
    "animal_misterioso=[0,1,0]\n",
    "resultado=modelo.predict([animal_misterioso])\n",
    "if resultado==1:\n",
    "    print(\"E um porco\")\n",
    "else:\n",
    "    print(\"E um cachorro\")\n"
   ]
  },
  {
   "cell_type": "code",
   "execution_count": 10,
   "id": "7b7e9980",
   "metadata": {},
   "outputs": [],
   "source": [
    "misterio1=[1,1,1]\n",
    "misterio2=[1,1,0]\n",
    "misterio3=[0,1,1]\n",
    "\n",
    "teste_x=[misterio1,misterio2,misterio3]\n",
    "previsoes=modelo.predict(teste_x)   "
   ]
  },
  {
   "cell_type": "code",
   "execution_count": 11,
   "id": "c1963c58",
   "metadata": {},
   "outputs": [],
   "source": [
    "# Classe correta\n",
    "teste_y=[0,1,1] # respostas corretas"
   ]
  },
  {
   "cell_type": "code",
   "execution_count": 13,
   "id": "bbc888ac",
   "metadata": {},
   "outputs": [
    {
     "data": {
      "text/plain": [
       "array([0, 1, 0])"
      ]
     },
     "execution_count": 13,
     "metadata": {},
     "output_type": "execute_result"
    }
   ],
   "source": [
    "previsoes"
   ]
  },
  {
   "cell_type": "code",
   "execution_count": 14,
   "id": "2a88c5bc",
   "metadata": {},
   "outputs": [
    {
     "name": "stdout",
     "output_type": "stream",
     "text": [
      "Precisao do modelo no teste:  66.66666666666666\n"
     ]
    }
   ],
   "source": [
    "\n",
    "precisao_teste=accuracy_score(teste_y,previsoes)*100\n",
    "print(\"Precisao do modelo no teste: \",precisao_teste) "
   ]
  }
 ],
 "metadata": {
  "kernelspec": {
   "display_name": "delicias_vovo",
   "language": "python",
   "name": "python3"
  },
  "language_info": {
   "codemirror_mode": {
    "name": "ipython",
    "version": 3
   },
   "file_extension": ".py",
   "mimetype": "text/x-python",
   "name": "python",
   "nbconvert_exporter": "python",
   "pygments_lexer": "ipython3",
   "version": "3.12.0"
  }
 },
 "nbformat": 4,
 "nbformat_minor": 5
}
